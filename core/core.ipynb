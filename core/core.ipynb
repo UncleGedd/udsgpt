{
 "cells": [
  {
   "cell_type": "code",
   "execution_count": null,
   "id": "8c758699-bc7b-4776-97a3-25771a85918c",
   "metadata": {},
   "outputs": [],
   "source": [
    "# test UDS Core\n",
    "\n",
    "import os\n",
    "from pathlib import Path\n",
    "from openai import OpenAI\n",
    "\n",
    "def read_file(file_path):\n",
    "    \"\"\"Read the contents of a file.\"\"\"\n",
    "    with open(file_path, 'r', encoding='utf-8') as file:\n",
    "        return file.read()\n",
    "\n",
    "def process_markdown_files(folder_path):\n",
    "    \"\"\"Process all .md and .mdx files in the given folder and its subfolders.\"\"\"\n",
    "    combined_content = \"\"\n",
    "    for root, _, files in os.walk(folder_path):\n",
    "        for file in files:\n",
    "            if file.endswith(('.md', '.mdx')):\n",
    "                file_path = Path(root) / file\n",
    "                content = read_file(file_path)\n",
    "                combined_content += f\"\\n\\nContent of {file_path}:\\n{content}\"\n",
    "    return combined_content\n",
    "\n",
    "def query_llm(logs, events, docs, query, model=\"gpt-4\"):\n",
    "    \"\"\"Query the LLM about the K8s cluster state with additional context.\"\"\"\n",
    "    client = OpenAI(api_key=os.getenv(\"OPENAI_API_KEY\"))\n",
    "    \n",
    "    response = client.chat.completions.create(\n",
    "        model=model,\n",
    "        messages=[\n",
    "            {\"role\": \"system\", \"content\": \"You are an expert in Kubernetes cluster analysis and the air-gap software delivery tool Zarf. Docs for Zarf as are follows:\\n\\n{docs} \\n\\nAnalyze the provided logs and events to answer questions about the cluster's current state.\"},\n",
    "            {\"role\": \"user\", \"content\": f\"Here are the recent logs from a Kubernetes cluster:\\n\\n{logs}\\n\\nHere are the recent events:\\n\\n{events}\\n\\nBased on all this information, please answer the following question: {query}\\n\\n Be brief in your response, no need for any in-depth analysis\"}\n",
    "        ]\n",
    "    )\n",
    "    return response.choices[0].message.content\n",
    "\n",
    "log_file = \"logs.txt\"\n",
    "event_file = \"events.txt\"\n",
    "docs_folder = \"../zarf/site/src/content/docs\"\n",
    "model = \"gpt-4o-mini\"\n",
    "    \n",
    "# logs = read_file(log_file)\n",
    "# events = read_file(event_file)\n",
    "# docs_content = process_markdown_files(docs_folder)\n",
    "\n",
    "query = \"\"\"\n",
    "    Give me a general overview of the state and health of my cluster\n",
    "\"\"\"\n",
    "\n",
    "answer = query_llm(logs, events, docs_content, query, model)\n",
    "print(\"\\nAnalysis:\")\n",
    "print(answer)"
   ]
  }
 ],
 "metadata": {
  "kernelspec": {
   "display_name": "Python 3 (ipykernel)",
   "language": "python",
   "name": "python3"
  },
  "language_info": {
   "codemirror_mode": {
    "name": "ipython",
    "version": 3
   },
   "file_extension": ".py",
   "mimetype": "text/x-python",
   "name": "python",
   "nbconvert_exporter": "python",
   "pygments_lexer": "ipython3",
   "version": "3.12.5"
  }
 },
 "nbformat": 4,
 "nbformat_minor": 5
}
